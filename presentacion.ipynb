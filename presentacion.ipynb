{
 "cells": [
  {
   "metadata": {},
   "cell_type": "markdown",
   "source": "Ejercicio de presentacion con python",
   "id": "46af6c787c631cc7"
  },
  {
   "metadata": {
    "ExecuteTime": {
     "end_time": "2025-04-29T15:54:00.210051Z",
     "start_time": "2025-04-29T15:54:00.205200Z"
    }
   },
   "cell_type": "code",
   "source": [
    "#Ejericio de presentacion con python\n",
    "print('Nombre: Francis Bravo')\n",
    "print('Edad: 20')\n",
    "print('Pais: Ecuador')"
   ],
   "id": "7a917911b8fbb20f",
   "outputs": [
    {
     "name": "stdout",
     "output_type": "stream",
     "text": [
      "Nombre: Francis Bravo\n",
      "Edad: 20\n",
      "Pais: Ecuador\n"
     ]
    }
   ],
   "execution_count": 1
  },
  {
   "metadata": {},
   "cell_type": "code",
   "outputs": [],
   "execution_count": null,
   "source": "",
   "id": "c5711f1ed5f3ed10"
  }
 ],
 "metadata": {
  "kernelspec": {
   "display_name": "Python 3",
   "language": "python",
   "name": "python3"
  },
  "language_info": {
   "codemirror_mode": {
    "name": "ipython",
    "version": 2
   },
   "file_extension": ".py",
   "mimetype": "text/x-python",
   "name": "python",
   "nbconvert_exporter": "python",
   "pygments_lexer": "ipython2",
   "version": "2.7.6"
  }
 },
 "nbformat": 4,
 "nbformat_minor": 5
}
